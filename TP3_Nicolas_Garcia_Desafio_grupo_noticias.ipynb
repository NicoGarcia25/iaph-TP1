{
  "cells": [
    {
      "cell_type": "markdown",
      "metadata": {
        "id": "zq6j8LsYq1Dr"
      },
      "source": [
        "### Vectorización de texto y modelo de clasificación Naïve Bayes con el dataset 20 newsgroups"
      ]
    },
    {
      "cell_type": "code",
      "execution_count": 3,
      "metadata": {
        "id": "l7cXR6CI30ry"
      },
      "outputs": [],
      "source": [
        "from sklearn.feature_extraction.text import CountVectorizer, TfidfVectorizer\n",
        "from sklearn.metrics.pairwise import cosine_similarity\n",
        "from sklearn.naive_bayes import MultinomialNB, ComplementNB\n",
        "from sklearn.metrics import f1_score\n",
        "\n",
        "# 20newsgroups por ser un dataset clásico de NLP ya viene incluido y formateado\n",
        "# en sklearn\n",
        "from sklearn.datasets import fetch_20newsgroups\n",
        "import numpy as np"
      ]
    },
    {
      "cell_type": "markdown",
      "metadata": {
        "id": "yD-pVDWV_rQc"
      },
      "source": [
        "## Carga de datos"
      ]
    },
    {
      "cell_type": "code",
      "execution_count": 4,
      "metadata": {
        "id": "Ech9qJaUo9vK"
      },
      "outputs": [],
      "source": [
        "# cargamos los datos (ya separados de forma predeterminada en train y test)\n",
        "newsgroups_train = fetch_20newsgroups(subset='train', remove=('headers', 'footers', 'quotes'))\n",
        "newsgroups_test = fetch_20newsgroups(subset='test', remove=('headers', 'footers', 'quotes'))"
      ]
    },
    {
      "cell_type": "markdown",
      "metadata": {
        "id": "UxjSI7su_uWI"
      },
      "source": [
        "## Vectorización"
      ]
    },
    {
      "cell_type": "code",
      "execution_count": 5,
      "metadata": {
        "id": "-94VP0QYCzDn"
      },
      "outputs": [],
      "source": [
        "# instanciamos un vectorizador\n",
        "# ver diferentes parámetros de instanciación en la documentación de sklearn\n",
        "tfidfvect = TfidfVectorizer()"
      ]
    },
    {
      "cell_type": "code",
      "execution_count": 6,
      "metadata": {
        "colab": {
          "base_uri": "https://localhost:8080/",
          "height": 88
        },
        "id": "ftPlyanuak8n",
        "outputId": "d8b905c2-731a-488f-baa1-722f1fa70e3b"
      },
      "outputs": [
        {
          "output_type": "execute_result",
          "data": {
            "text/plain": [
              "\"A fair number of brave souls who upgraded their SI clock oscillator have\\nshared their experiences for this poll. Please send a brief message detailing\\nyour experiences with the procedure. Top speed attained, CPU rated speed,\\nadd on cards and adapters, heat sinks, hour of usage per day, floppy disk\\nfunctionality with 800 and 1.4 m floppies are especially requested.\\n\\nI will be summarizing in the next two days, so please add to the network\\nknowledge base if you have done the clock upgrade and haven't answered this\\npoll. Thanks.\""
            ],
            "application/vnd.google.colaboratory.intrinsic+json": {
              "type": "string"
            }
          },
          "metadata": {},
          "execution_count": 6
        }
      ],
      "source": [
        "# en el atributo `data` accedemos al texto\n",
        "newsgroups_train.data[1]"
      ]
    },
    {
      "cell_type": "code",
      "execution_count": 7,
      "metadata": {
        "id": "1zxcXV6aC_oL"
      },
      "outputs": [],
      "source": [
        "# con la interfaz habitual de sklearn podemos fitear el vectorizador\n",
        "# (obtener el vocabulario y calcular el vector IDF)\n",
        "# y transformar directamente los datos\n",
        "X_train = tfidfvect.fit_transform(newsgroups_train.data)\n",
        "# `X_train` la podemos denominar como la matriz documento-término"
      ]
    },
    {
      "cell_type": "code",
      "execution_count": 8,
      "metadata": {
        "colab": {
          "base_uri": "https://localhost:8080/"
        },
        "id": "4Sv7TXbda41-",
        "outputId": "8c4ec7d6-7269-444f-f388-f161828ad478"
      },
      "outputs": [
        {
          "output_type": "stream",
          "name": "stdout",
          "text": [
            "<class 'scipy.sparse._csr.csr_matrix'>\n",
            "shape: (11314, 101631)\n",
            "cantidad de documentos: 11314\n",
            "tamaño del vocabulario (dimensionalidad de los vectores): 101631\n"
          ]
        }
      ],
      "source": [
        "# recordar que las vectorizaciones por conteos son esparsas\n",
        "# por ello sklearn convenientemente devuelve los vectores de documentos\n",
        "# como matrices esparsas\n",
        "print(type(X_train))\n",
        "print(f'shape: {X_train.shape}')\n",
        "print(f'cantidad de documentos: {X_train.shape[0]}')\n",
        "print(f'tamaño del vocabulario (dimensionalidad de los vectores): {X_train.shape[1]}')"
      ]
    },
    {
      "cell_type": "code",
      "execution_count": 9,
      "metadata": {
        "colab": {
          "base_uri": "https://localhost:8080/"
        },
        "id": "dgydNTZ2pAgR",
        "outputId": "9fa97cdd-9f4f-4524-cd02-a37774cdf1e1"
      },
      "outputs": [
        {
          "output_type": "execute_result",
          "data": {
            "text/plain": [
              "25775"
            ]
          },
          "metadata": {},
          "execution_count": 9
        }
      ],
      "source": [
        "# una vez ajustado el vectorizador, podemos acceder a atributos como el vocabulario\n",
        "# aprendido. Es un diccionario que va de términos a índices.\n",
        "# El índice es la posición en el vector de documento.\n",
        "tfidfvect.vocabulary_['car']"
      ]
    },
    {
      "cell_type": "code",
      "execution_count": 10,
      "metadata": {
        "id": "xnTSZuvyrTcP"
      },
      "outputs": [],
      "source": [
        "# es muy útil tener el diccionario opuesto que va de índices a términos\n",
        "idx2word = {v: k for k,v in tfidfvect.vocabulary_.items()}"
      ]
    },
    {
      "cell_type": "code",
      "execution_count": 11,
      "metadata": {
        "colab": {
          "base_uri": "https://localhost:8080/"
        },
        "id": "swa-AgWrMSHM",
        "outputId": "d954c695-a2b4-4e7c-a717-f69cb96ff56e"
      },
      "outputs": [
        {
          "output_type": "execute_result",
          "data": {
            "text/plain": [
              "array([ 7,  4,  4,  1, 14, 16, 13,  3,  2,  4])"
            ]
          },
          "metadata": {},
          "execution_count": 11
        }
      ],
      "source": [
        "# en `y_train` guardamos los targets que son enteros\n",
        "y_train = newsgroups_train.target\n",
        "y_train[:10]"
      ]
    },
    {
      "cell_type": "code",
      "execution_count": 12,
      "metadata": {
        "colab": {
          "base_uri": "https://localhost:8080/"
        },
        "id": "je5kxvQMDLvf",
        "outputId": "cb025a7b-0d00-4014-96c1-7d15aad8672c"
      },
      "outputs": [
        {
          "output_type": "stream",
          "name": "stdout",
          "text": [
            "clases [ 0  1  2  3  4  5  6  7  8  9 10 11 12 13 14 15 16 17 18 19]\n"
          ]
        },
        {
          "output_type": "execute_result",
          "data": {
            "text/plain": [
              "['alt.atheism',\n",
              " 'comp.graphics',\n",
              " 'comp.os.ms-windows.misc',\n",
              " 'comp.sys.ibm.pc.hardware',\n",
              " 'comp.sys.mac.hardware',\n",
              " 'comp.windows.x',\n",
              " 'misc.forsale',\n",
              " 'rec.autos',\n",
              " 'rec.motorcycles',\n",
              " 'rec.sport.baseball',\n",
              " 'rec.sport.hockey',\n",
              " 'sci.crypt',\n",
              " 'sci.electronics',\n",
              " 'sci.med',\n",
              " 'sci.space',\n",
              " 'soc.religion.christian',\n",
              " 'talk.politics.guns',\n",
              " 'talk.politics.mideast',\n",
              " 'talk.politics.misc',\n",
              " 'talk.religion.misc']"
            ]
          },
          "metadata": {},
          "execution_count": 12
        }
      ],
      "source": [
        "# hay 20 clases correspondientes a los 20 grupos de noticias\n",
        "print(f'clases {np.unique(newsgroups_test.target)}')\n",
        "newsgroups_test.target_names"
      ]
    },
    {
      "cell_type": "markdown",
      "metadata": {
        "id": "SXCICFSd_y90"
      },
      "source": [
        "## Similaridad de documentos"
      ]
    },
    {
      "cell_type": "code",
      "execution_count": 13,
      "metadata": {
        "colab": {
          "base_uri": "https://localhost:8080/"
        },
        "id": "_pki_olShnyE",
        "outputId": "90cc3cd4-17fb-4e5f-e9d3-0b28ab575401"
      },
      "outputs": [
        {
          "output_type": "stream",
          "name": "stdout",
          "text": [
            "\n",
            "/(hudson)\n",
            "/If someone inflicts pain on themselves, whether they enjoy it or not, they\n",
            "/are hurting themselves.  They may be permanently damaging their body.\n",
            "\n",
            "That is true.  It is also none of your business.  \n",
            "\n",
            "Some people may also reason that by reading the bible and being a Xtian\n",
            "you are permanently damaging your brain.  By your logic, it would be OK\n",
            "for them to come into your home, take away your bible, and send you off\n",
            "to \"re-education camps\" to save your mind from ruin.  Are you ready for\n",
            "that?  \n",
            "\n",
            "\n",
            "\n",
            "\n",
            "\n",
            "/(hudson)\n",
            "/And why is there nothing wrong with it?  Because you say so?  Who gave you\n",
            "/the authority to say that, and set the standard for morality?\n",
            "\n",
            "Why?\n",
            "\n",
            "Because: \n",
            "I am a living, thinking person able to make choices for myself.\n",
            "I do not \"need\" you to show me what you think is the way; I have observed\n",
            "too many errors in your thinking already to trust you to make up the\n",
            "rules for me.\n",
            "\n",
            "Because:\n",
            "I set the standard for my *own* morality, and I permit you to do \n",
            "the same for yourself.  I also do not try to force you to accept my rules.\n",
            "\n",
            "Because:\n",
            "Simply because you don't like what other people are doing doesn't give you\n",
            "the right to stop it, Hudson.  We are all aware that you would like for \n",
            "everyone to be like you.  However, it is obnoxious, arrogant thinking like \n",
            "yours, the \"I-know-I'm-morally-right-so-I-can-force-it-on-you\" bullshit \n",
            "that has brought us religious wars, pogroms against Jews, gay-bashing,\n",
            "and other atrocities by other people who, like you, \"knew\" they were\n",
            "morally right.\n",
            "\n",
            "\n",
            "\n",
            "\n",
            "\n",
            "(me)\n",
            "\n",
            "/(hudson)\n",
            "/Aren't you?  Aren't you indicating that I should not tell other people what\n",
            "to do?  Aren't you telling me it is wrong for me to do that? \n",
            "\n",
            "It is not a moral standard that I am presenting you with, Hudson.  It is\n",
            "a key to getting along in life with other people.  It is also a point of\n",
            "respect:  I trust other people to be intelligent enough to make their\n",
            "own choices, and I expect the same to be returned.  You, on the other\n",
            "hand, do not trust them, and want to make the choice for them--whether\n",
            "they like it or not.\n",
            "\n",
            "It is also a way to avoid an inconsistency:  if you believe that you have \n",
            "the right to set moral standards for others and interfere in their lives, \n",
            "then you must, by logic, admit that other people have the same right of \n",
            "interference in your life.  \n",
            "(Yes, I know; you will say that your religion is correct and tells you that\n",
            "only agents acting in behalf of your religion have the right of interference.\n",
            "However, other people will say that you have misinterpreted the Word of\n",
            "God and that *they* are the actual true believers, and that you are\n",
            "acting on your own authority.  And so it goes).\n",
            "\n",
            "\n",
            "\n",
            "\n",
            "\n",
            "(hudson)\n",
            "/Who gave\n",
            "/you the authority to set such a moral standard for me to tell me that I \n",
            "/cannot set a moral standard for others?\n",
            "\n",
            "\n",
            "You can set all the standards that you want, actually.  But don't be surprised\n",
            "if people don't follow you like rats after the Pied Piper.  \n",
            "\n",
            "At the most basic form, I am not going to LET you tell me what to do;\n",
            "and if necessary, I will beat you to a bloody pulp before I let you actually\n",
            "interfere in my life.\n"
          ]
        }
      ],
      "source": [
        "# Veamos similaridad de documentos. Tomemos algún documento\n",
        "idx = 8754\n",
        "print(newsgroups_train.data[idx])"
      ]
    },
    {
      "cell_type": "code",
      "execution_count": 14,
      "metadata": {
        "id": "Ssa9bqJ-hA_v"
      },
      "outputs": [],
      "source": [
        "# midamos la similaridad coseno con todos los documentos de train\n",
        "cossim = cosine_similarity(X_train[idx], X_train)[0]"
      ]
    },
    {
      "cell_type": "code",
      "source": [
        "cossim"
      ],
      "metadata": {
        "id": "qQWdijV_-ClO",
        "outputId": "28542e82-0a83-4671-c11b-785176ebfc93",
        "colab": {
          "base_uri": "https://localhost:8080/"
        }
      },
      "execution_count": 15,
      "outputs": [
        {
          "output_type": "execute_result",
          "data": {
            "text/plain": [
              "array([0.11252759, 0.09561582, 0.17267024, ..., 0.09162675, 0.1121114 ,\n",
              "       0.03334953])"
            ]
          },
          "metadata": {},
          "execution_count": 15
        }
      ]
    },
    {
      "cell_type": "code",
      "execution_count": 16,
      "metadata": {
        "colab": {
          "base_uri": "https://localhost:8080/"
        },
        "id": "p_mDA7p3AzcQ",
        "outputId": "ac659d29-84e9-47cc-8945-1d7f8a7ec708"
      },
      "outputs": [
        {
          "output_type": "execute_result",
          "data": {
            "text/plain": [
              "array([1.        , 0.49040531, 0.48118373, ..., 0.        , 0.        ,\n",
              "       0.        ])"
            ]
          },
          "metadata": {},
          "execution_count": 16
        }
      ],
      "source": [
        "# podemos ver los valores de similaridad ordenados de mayor a menos\n",
        "np.sort(cossim)[::-1]"
      ]
    },
    {
      "cell_type": "code",
      "execution_count": 17,
      "metadata": {
        "colab": {
          "base_uri": "https://localhost:8080/"
        },
        "id": "0OIhDA1jAryX",
        "outputId": "2b3d37f4-f8cd-464b-87b9-8a125616dbb9"
      },
      "outputs": [
        {
          "output_type": "execute_result",
          "data": {
            "text/plain": [
              "array([ 8754,  6552, 10613, ...,  6988,  6980,  9520])"
            ]
          },
          "metadata": {},
          "execution_count": 17
        }
      ],
      "source": [
        "# y a qué documentos corresponden\n",
        "np.argsort(cossim)[::-1]"
      ]
    },
    {
      "cell_type": "code",
      "execution_count": 18,
      "metadata": {
        "id": "hP7qLS4ZBLps"
      },
      "outputs": [],
      "source": [
        "# los 5 documentos más similares:\n",
        "mostsim = np.argsort(cossim)[::-1][1:6]"
      ]
    },
    {
      "cell_type": "code",
      "source": [
        "mostsim"
      ],
      "metadata": {
        "colab": {
          "base_uri": "https://localhost:8080/"
        },
        "id": "Y1SFEyIIKBOI",
        "outputId": "8ea2b16f-5bbd-46c1-9351-ec253e83b9a6"
      },
      "execution_count": 19,
      "outputs": [
        {
          "output_type": "execute_result",
          "data": {
            "text/plain": [
              "array([ 6552, 10613,  3616,  8726,  3902])"
            ]
          },
          "metadata": {},
          "execution_count": 19
        }
      ]
    },
    {
      "cell_type": "code",
      "execution_count": 20,
      "metadata": {
        "colab": {
          "base_uri": "https://localhost:8080/",
          "height": 36
        },
        "id": "QdJLHPJACvaj",
        "outputId": "baabd7f5-115e-4999-9658-5e4b5c72c982"
      },
      "outputs": [
        {
          "output_type": "execute_result",
          "data": {
            "text/plain": [
              "'talk.religion.misc'"
            ],
            "application/vnd.google.colaboratory.intrinsic+json": {
              "type": "string"
            }
          },
          "metadata": {},
          "execution_count": 20
        }
      ],
      "source": [
        "# el documento original pertenece a la clase:\n",
        "newsgroups_train.target_names[y_train[idx]]"
      ]
    },
    {
      "cell_type": "code",
      "execution_count": 21,
      "metadata": {
        "colab": {
          "base_uri": "https://localhost:8080/"
        },
        "id": "RWy_73epCbFG",
        "outputId": "46d01107-a054-41fa-ab46-425ba74d365f"
      },
      "outputs": [
        {
          "output_type": "stream",
          "name": "stdout",
          "text": [
            "talk.religion.misc\n",
            "talk.religion.misc\n",
            "talk.religion.misc\n",
            "talk.politics.mideast\n",
            "talk.religion.misc\n"
          ]
        }
      ],
      "source": [
        "# y los 5 más similares son de las clases:\n",
        "for i in mostsim:\n",
        "  print(newsgroups_train.target_names[y_train[i]])"
      ]
    },
    {
      "cell_type": "markdown",
      "metadata": {
        "id": "zRoNnKwhBqzq"
      },
      "source": [
        "### Modelo de clasificación Naïve Bayes"
      ]
    },
    {
      "cell_type": "code",
      "execution_count": 22,
      "metadata": {
        "colab": {
          "base_uri": "https://localhost:8080/",
          "height": 80
        },
        "id": "TPM0thDaLk0R",
        "outputId": "3ba9d9e8-e788-4194-94de-f5e75eb87f77"
      },
      "outputs": [
        {
          "output_type": "execute_result",
          "data": {
            "text/plain": [
              "MultinomialNB()"
            ],
            "text/html": [
              "<style>#sk-container-id-1 {\n",
              "  /* Definition of color scheme common for light and dark mode */\n",
              "  --sklearn-color-text: #000;\n",
              "  --sklearn-color-text-muted: #666;\n",
              "  --sklearn-color-line: gray;\n",
              "  /* Definition of color scheme for unfitted estimators */\n",
              "  --sklearn-color-unfitted-level-0: #fff5e6;\n",
              "  --sklearn-color-unfitted-level-1: #f6e4d2;\n",
              "  --sklearn-color-unfitted-level-2: #ffe0b3;\n",
              "  --sklearn-color-unfitted-level-3: chocolate;\n",
              "  /* Definition of color scheme for fitted estimators */\n",
              "  --sklearn-color-fitted-level-0: #f0f8ff;\n",
              "  --sklearn-color-fitted-level-1: #d4ebff;\n",
              "  --sklearn-color-fitted-level-2: #b3dbfd;\n",
              "  --sklearn-color-fitted-level-3: cornflowerblue;\n",
              "\n",
              "  /* Specific color for light theme */\n",
              "  --sklearn-color-text-on-default-background: var(--sg-text-color, var(--theme-code-foreground, var(--jp-content-font-color1, black)));\n",
              "  --sklearn-color-background: var(--sg-background-color, var(--theme-background, var(--jp-layout-color0, white)));\n",
              "  --sklearn-color-border-box: var(--sg-text-color, var(--theme-code-foreground, var(--jp-content-font-color1, black)));\n",
              "  --sklearn-color-icon: #696969;\n",
              "\n",
              "  @media (prefers-color-scheme: dark) {\n",
              "    /* Redefinition of color scheme for dark theme */\n",
              "    --sklearn-color-text-on-default-background: var(--sg-text-color, var(--theme-code-foreground, var(--jp-content-font-color1, white)));\n",
              "    --sklearn-color-background: var(--sg-background-color, var(--theme-background, var(--jp-layout-color0, #111)));\n",
              "    --sklearn-color-border-box: var(--sg-text-color, var(--theme-code-foreground, var(--jp-content-font-color1, white)));\n",
              "    --sklearn-color-icon: #878787;\n",
              "  }\n",
              "}\n",
              "\n",
              "#sk-container-id-1 {\n",
              "  color: var(--sklearn-color-text);\n",
              "}\n",
              "\n",
              "#sk-container-id-1 pre {\n",
              "  padding: 0;\n",
              "}\n",
              "\n",
              "#sk-container-id-1 input.sk-hidden--visually {\n",
              "  border: 0;\n",
              "  clip: rect(1px 1px 1px 1px);\n",
              "  clip: rect(1px, 1px, 1px, 1px);\n",
              "  height: 1px;\n",
              "  margin: -1px;\n",
              "  overflow: hidden;\n",
              "  padding: 0;\n",
              "  position: absolute;\n",
              "  width: 1px;\n",
              "}\n",
              "\n",
              "#sk-container-id-1 div.sk-dashed-wrapped {\n",
              "  border: 1px dashed var(--sklearn-color-line);\n",
              "  margin: 0 0.4em 0.5em 0.4em;\n",
              "  box-sizing: border-box;\n",
              "  padding-bottom: 0.4em;\n",
              "  background-color: var(--sklearn-color-background);\n",
              "}\n",
              "\n",
              "#sk-container-id-1 div.sk-container {\n",
              "  /* jupyter's `normalize.less` sets `[hidden] { display: none; }`\n",
              "     but bootstrap.min.css set `[hidden] { display: none !important; }`\n",
              "     so we also need the `!important` here to be able to override the\n",
              "     default hidden behavior on the sphinx rendered scikit-learn.org.\n",
              "     See: https://github.com/scikit-learn/scikit-learn/issues/21755 */\n",
              "  display: inline-block !important;\n",
              "  position: relative;\n",
              "}\n",
              "\n",
              "#sk-container-id-1 div.sk-text-repr-fallback {\n",
              "  display: none;\n",
              "}\n",
              "\n",
              "div.sk-parallel-item,\n",
              "div.sk-serial,\n",
              "div.sk-item {\n",
              "  /* draw centered vertical line to link estimators */\n",
              "  background-image: linear-gradient(var(--sklearn-color-text-on-default-background), var(--sklearn-color-text-on-default-background));\n",
              "  background-size: 2px 100%;\n",
              "  background-repeat: no-repeat;\n",
              "  background-position: center center;\n",
              "}\n",
              "\n",
              "/* Parallel-specific style estimator block */\n",
              "\n",
              "#sk-container-id-1 div.sk-parallel-item::after {\n",
              "  content: \"\";\n",
              "  width: 100%;\n",
              "  border-bottom: 2px solid var(--sklearn-color-text-on-default-background);\n",
              "  flex-grow: 1;\n",
              "}\n",
              "\n",
              "#sk-container-id-1 div.sk-parallel {\n",
              "  display: flex;\n",
              "  align-items: stretch;\n",
              "  justify-content: center;\n",
              "  background-color: var(--sklearn-color-background);\n",
              "  position: relative;\n",
              "}\n",
              "\n",
              "#sk-container-id-1 div.sk-parallel-item {\n",
              "  display: flex;\n",
              "  flex-direction: column;\n",
              "}\n",
              "\n",
              "#sk-container-id-1 div.sk-parallel-item:first-child::after {\n",
              "  align-self: flex-end;\n",
              "  width: 50%;\n",
              "}\n",
              "\n",
              "#sk-container-id-1 div.sk-parallel-item:last-child::after {\n",
              "  align-self: flex-start;\n",
              "  width: 50%;\n",
              "}\n",
              "\n",
              "#sk-container-id-1 div.sk-parallel-item:only-child::after {\n",
              "  width: 0;\n",
              "}\n",
              "\n",
              "/* Serial-specific style estimator block */\n",
              "\n",
              "#sk-container-id-1 div.sk-serial {\n",
              "  display: flex;\n",
              "  flex-direction: column;\n",
              "  align-items: center;\n",
              "  background-color: var(--sklearn-color-background);\n",
              "  padding-right: 1em;\n",
              "  padding-left: 1em;\n",
              "}\n",
              "\n",
              "\n",
              "/* Toggleable style: style used for estimator/Pipeline/ColumnTransformer box that is\n",
              "clickable and can be expanded/collapsed.\n",
              "- Pipeline and ColumnTransformer use this feature and define the default style\n",
              "- Estimators will overwrite some part of the style using the `sk-estimator` class\n",
              "*/\n",
              "\n",
              "/* Pipeline and ColumnTransformer style (default) */\n",
              "\n",
              "#sk-container-id-1 div.sk-toggleable {\n",
              "  /* Default theme specific background. It is overwritten whether we have a\n",
              "  specific estimator or a Pipeline/ColumnTransformer */\n",
              "  background-color: var(--sklearn-color-background);\n",
              "}\n",
              "\n",
              "/* Toggleable label */\n",
              "#sk-container-id-1 label.sk-toggleable__label {\n",
              "  cursor: pointer;\n",
              "  display: flex;\n",
              "  width: 100%;\n",
              "  margin-bottom: 0;\n",
              "  padding: 0.5em;\n",
              "  box-sizing: border-box;\n",
              "  text-align: center;\n",
              "  align-items: start;\n",
              "  justify-content: space-between;\n",
              "  gap: 0.5em;\n",
              "}\n",
              "\n",
              "#sk-container-id-1 label.sk-toggleable__label .caption {\n",
              "  font-size: 0.6rem;\n",
              "  font-weight: lighter;\n",
              "  color: var(--sklearn-color-text-muted);\n",
              "}\n",
              "\n",
              "#sk-container-id-1 label.sk-toggleable__label-arrow:before {\n",
              "  /* Arrow on the left of the label */\n",
              "  content: \"▸\";\n",
              "  float: left;\n",
              "  margin-right: 0.25em;\n",
              "  color: var(--sklearn-color-icon);\n",
              "}\n",
              "\n",
              "#sk-container-id-1 label.sk-toggleable__label-arrow:hover:before {\n",
              "  color: var(--sklearn-color-text);\n",
              "}\n",
              "\n",
              "/* Toggleable content - dropdown */\n",
              "\n",
              "#sk-container-id-1 div.sk-toggleable__content {\n",
              "  max-height: 0;\n",
              "  max-width: 0;\n",
              "  overflow: hidden;\n",
              "  text-align: left;\n",
              "  /* unfitted */\n",
              "  background-color: var(--sklearn-color-unfitted-level-0);\n",
              "}\n",
              "\n",
              "#sk-container-id-1 div.sk-toggleable__content.fitted {\n",
              "  /* fitted */\n",
              "  background-color: var(--sklearn-color-fitted-level-0);\n",
              "}\n",
              "\n",
              "#sk-container-id-1 div.sk-toggleable__content pre {\n",
              "  margin: 0.2em;\n",
              "  border-radius: 0.25em;\n",
              "  color: var(--sklearn-color-text);\n",
              "  /* unfitted */\n",
              "  background-color: var(--sklearn-color-unfitted-level-0);\n",
              "}\n",
              "\n",
              "#sk-container-id-1 div.sk-toggleable__content.fitted pre {\n",
              "  /* unfitted */\n",
              "  background-color: var(--sklearn-color-fitted-level-0);\n",
              "}\n",
              "\n",
              "#sk-container-id-1 input.sk-toggleable__control:checked~div.sk-toggleable__content {\n",
              "  /* Expand drop-down */\n",
              "  max-height: 200px;\n",
              "  max-width: 100%;\n",
              "  overflow: auto;\n",
              "}\n",
              "\n",
              "#sk-container-id-1 input.sk-toggleable__control:checked~label.sk-toggleable__label-arrow:before {\n",
              "  content: \"▾\";\n",
              "}\n",
              "\n",
              "/* Pipeline/ColumnTransformer-specific style */\n",
              "\n",
              "#sk-container-id-1 div.sk-label input.sk-toggleable__control:checked~label.sk-toggleable__label {\n",
              "  color: var(--sklearn-color-text);\n",
              "  background-color: var(--sklearn-color-unfitted-level-2);\n",
              "}\n",
              "\n",
              "#sk-container-id-1 div.sk-label.fitted input.sk-toggleable__control:checked~label.sk-toggleable__label {\n",
              "  background-color: var(--sklearn-color-fitted-level-2);\n",
              "}\n",
              "\n",
              "/* Estimator-specific style */\n",
              "\n",
              "/* Colorize estimator box */\n",
              "#sk-container-id-1 div.sk-estimator input.sk-toggleable__control:checked~label.sk-toggleable__label {\n",
              "  /* unfitted */\n",
              "  background-color: var(--sklearn-color-unfitted-level-2);\n",
              "}\n",
              "\n",
              "#sk-container-id-1 div.sk-estimator.fitted input.sk-toggleable__control:checked~label.sk-toggleable__label {\n",
              "  /* fitted */\n",
              "  background-color: var(--sklearn-color-fitted-level-2);\n",
              "}\n",
              "\n",
              "#sk-container-id-1 div.sk-label label.sk-toggleable__label,\n",
              "#sk-container-id-1 div.sk-label label {\n",
              "  /* The background is the default theme color */\n",
              "  color: var(--sklearn-color-text-on-default-background);\n",
              "}\n",
              "\n",
              "/* On hover, darken the color of the background */\n",
              "#sk-container-id-1 div.sk-label:hover label.sk-toggleable__label {\n",
              "  color: var(--sklearn-color-text);\n",
              "  background-color: var(--sklearn-color-unfitted-level-2);\n",
              "}\n",
              "\n",
              "/* Label box, darken color on hover, fitted */\n",
              "#sk-container-id-1 div.sk-label.fitted:hover label.sk-toggleable__label.fitted {\n",
              "  color: var(--sklearn-color-text);\n",
              "  background-color: var(--sklearn-color-fitted-level-2);\n",
              "}\n",
              "\n",
              "/* Estimator label */\n",
              "\n",
              "#sk-container-id-1 div.sk-label label {\n",
              "  font-family: monospace;\n",
              "  font-weight: bold;\n",
              "  display: inline-block;\n",
              "  line-height: 1.2em;\n",
              "}\n",
              "\n",
              "#sk-container-id-1 div.sk-label-container {\n",
              "  text-align: center;\n",
              "}\n",
              "\n",
              "/* Estimator-specific */\n",
              "#sk-container-id-1 div.sk-estimator {\n",
              "  font-family: monospace;\n",
              "  border: 1px dotted var(--sklearn-color-border-box);\n",
              "  border-radius: 0.25em;\n",
              "  box-sizing: border-box;\n",
              "  margin-bottom: 0.5em;\n",
              "  /* unfitted */\n",
              "  background-color: var(--sklearn-color-unfitted-level-0);\n",
              "}\n",
              "\n",
              "#sk-container-id-1 div.sk-estimator.fitted {\n",
              "  /* fitted */\n",
              "  background-color: var(--sklearn-color-fitted-level-0);\n",
              "}\n",
              "\n",
              "/* on hover */\n",
              "#sk-container-id-1 div.sk-estimator:hover {\n",
              "  /* unfitted */\n",
              "  background-color: var(--sklearn-color-unfitted-level-2);\n",
              "}\n",
              "\n",
              "#sk-container-id-1 div.sk-estimator.fitted:hover {\n",
              "  /* fitted */\n",
              "  background-color: var(--sklearn-color-fitted-level-2);\n",
              "}\n",
              "\n",
              "/* Specification for estimator info (e.g. \"i\" and \"?\") */\n",
              "\n",
              "/* Common style for \"i\" and \"?\" */\n",
              "\n",
              ".sk-estimator-doc-link,\n",
              "a:link.sk-estimator-doc-link,\n",
              "a:visited.sk-estimator-doc-link {\n",
              "  float: right;\n",
              "  font-size: smaller;\n",
              "  line-height: 1em;\n",
              "  font-family: monospace;\n",
              "  background-color: var(--sklearn-color-background);\n",
              "  border-radius: 1em;\n",
              "  height: 1em;\n",
              "  width: 1em;\n",
              "  text-decoration: none !important;\n",
              "  margin-left: 0.5em;\n",
              "  text-align: center;\n",
              "  /* unfitted */\n",
              "  border: var(--sklearn-color-unfitted-level-1) 1pt solid;\n",
              "  color: var(--sklearn-color-unfitted-level-1);\n",
              "}\n",
              "\n",
              ".sk-estimator-doc-link.fitted,\n",
              "a:link.sk-estimator-doc-link.fitted,\n",
              "a:visited.sk-estimator-doc-link.fitted {\n",
              "  /* fitted */\n",
              "  border: var(--sklearn-color-fitted-level-1) 1pt solid;\n",
              "  color: var(--sklearn-color-fitted-level-1);\n",
              "}\n",
              "\n",
              "/* On hover */\n",
              "div.sk-estimator:hover .sk-estimator-doc-link:hover,\n",
              ".sk-estimator-doc-link:hover,\n",
              "div.sk-label-container:hover .sk-estimator-doc-link:hover,\n",
              ".sk-estimator-doc-link:hover {\n",
              "  /* unfitted */\n",
              "  background-color: var(--sklearn-color-unfitted-level-3);\n",
              "  color: var(--sklearn-color-background);\n",
              "  text-decoration: none;\n",
              "}\n",
              "\n",
              "div.sk-estimator.fitted:hover .sk-estimator-doc-link.fitted:hover,\n",
              ".sk-estimator-doc-link.fitted:hover,\n",
              "div.sk-label-container:hover .sk-estimator-doc-link.fitted:hover,\n",
              ".sk-estimator-doc-link.fitted:hover {\n",
              "  /* fitted */\n",
              "  background-color: var(--sklearn-color-fitted-level-3);\n",
              "  color: var(--sklearn-color-background);\n",
              "  text-decoration: none;\n",
              "}\n",
              "\n",
              "/* Span, style for the box shown on hovering the info icon */\n",
              ".sk-estimator-doc-link span {\n",
              "  display: none;\n",
              "  z-index: 9999;\n",
              "  position: relative;\n",
              "  font-weight: normal;\n",
              "  right: .2ex;\n",
              "  padding: .5ex;\n",
              "  margin: .5ex;\n",
              "  width: min-content;\n",
              "  min-width: 20ex;\n",
              "  max-width: 50ex;\n",
              "  color: var(--sklearn-color-text);\n",
              "  box-shadow: 2pt 2pt 4pt #999;\n",
              "  /* unfitted */\n",
              "  background: var(--sklearn-color-unfitted-level-0);\n",
              "  border: .5pt solid var(--sklearn-color-unfitted-level-3);\n",
              "}\n",
              "\n",
              ".sk-estimator-doc-link.fitted span {\n",
              "  /* fitted */\n",
              "  background: var(--sklearn-color-fitted-level-0);\n",
              "  border: var(--sklearn-color-fitted-level-3);\n",
              "}\n",
              "\n",
              ".sk-estimator-doc-link:hover span {\n",
              "  display: block;\n",
              "}\n",
              "\n",
              "/* \"?\"-specific style due to the `<a>` HTML tag */\n",
              "\n",
              "#sk-container-id-1 a.estimator_doc_link {\n",
              "  float: right;\n",
              "  font-size: 1rem;\n",
              "  line-height: 1em;\n",
              "  font-family: monospace;\n",
              "  background-color: var(--sklearn-color-background);\n",
              "  border-radius: 1rem;\n",
              "  height: 1rem;\n",
              "  width: 1rem;\n",
              "  text-decoration: none;\n",
              "  /* unfitted */\n",
              "  color: var(--sklearn-color-unfitted-level-1);\n",
              "  border: var(--sklearn-color-unfitted-level-1) 1pt solid;\n",
              "}\n",
              "\n",
              "#sk-container-id-1 a.estimator_doc_link.fitted {\n",
              "  /* fitted */\n",
              "  border: var(--sklearn-color-fitted-level-1) 1pt solid;\n",
              "  color: var(--sklearn-color-fitted-level-1);\n",
              "}\n",
              "\n",
              "/* On hover */\n",
              "#sk-container-id-1 a.estimator_doc_link:hover {\n",
              "  /* unfitted */\n",
              "  background-color: var(--sklearn-color-unfitted-level-3);\n",
              "  color: var(--sklearn-color-background);\n",
              "  text-decoration: none;\n",
              "}\n",
              "\n",
              "#sk-container-id-1 a.estimator_doc_link.fitted:hover {\n",
              "  /* fitted */\n",
              "  background-color: var(--sklearn-color-fitted-level-3);\n",
              "}\n",
              "</style><div id=\"sk-container-id-1\" class=\"sk-top-container\"><div class=\"sk-text-repr-fallback\"><pre>MultinomialNB()</pre><b>In a Jupyter environment, please rerun this cell to show the HTML representation or trust the notebook. <br />On GitHub, the HTML representation is unable to render, please try loading this page with nbviewer.org.</b></div><div class=\"sk-container\" hidden><div class=\"sk-item\"><div class=\"sk-estimator fitted sk-toggleable\"><input class=\"sk-toggleable__control sk-hidden--visually\" id=\"sk-estimator-id-1\" type=\"checkbox\" checked><label for=\"sk-estimator-id-1\" class=\"sk-toggleable__label fitted sk-toggleable__label-arrow\"><div><div>MultinomialNB</div></div><div><a class=\"sk-estimator-doc-link fitted\" rel=\"noreferrer\" target=\"_blank\" href=\"https://scikit-learn.org/1.6/modules/generated/sklearn.naive_bayes.MultinomialNB.html\">?<span>Documentation for MultinomialNB</span></a><span class=\"sk-estimator-doc-link fitted\">i<span>Fitted</span></span></div></label><div class=\"sk-toggleable__content fitted\"><pre>MultinomialNB()</pre></div> </div></div></div></div>"
            ]
          },
          "metadata": {},
          "execution_count": 22
        }
      ],
      "source": [
        "# es muy fácil instanciar un modelo de clasificación Naïve Bayes y entrenarlo con sklearn\n",
        "clf = MultinomialNB()\n",
        "clf.fit(X_train, y_train)"
      ]
    },
    {
      "cell_type": "code",
      "execution_count": 23,
      "metadata": {
        "id": "NrQjzM48Mu4T"
      },
      "outputs": [],
      "source": [
        "# con nuestro vectorizador ya fiteado en train, vectorizamos los textos\n",
        "# del conjunto de test\n",
        "X_test = tfidfvect.transform(newsgroups_test.data)\n",
        "y_test = newsgroups_test.target\n",
        "y_pred =  clf.predict(X_test)"
      ]
    },
    {
      "cell_type": "code",
      "execution_count": 24,
      "metadata": {
        "colab": {
          "base_uri": "https://localhost:8080/"
        },
        "id": "UkGJhetEPdA4",
        "outputId": "928c6b13-5294-4b0d-b504-fe113e5ba94b"
      },
      "outputs": [
        {
          "output_type": "execute_result",
          "data": {
            "text/plain": [
              "0.5854345727938506"
            ]
          },
          "metadata": {},
          "execution_count": 24
        }
      ],
      "source": [
        "# el F1-score es una metrica adecuada para reportar desempeño de modelos de claificación\n",
        "# es robusta al desbalance de clases. El promediado 'macro' es el promedio de los\n",
        "# F1-score de cada clase. El promedio 'micro' es equivalente a la accuracy que no\n",
        "# es una buena métrica cuando los datasets son desbalanceados\n",
        "f1_score(y_test, y_pred, average='macro')"
      ]
    },
    {
      "cell_type": "markdown",
      "metadata": {
        "id": "McArD4rSDR2K"
      },
      "source": [
        "### Consigna del desafío\n"
      ]
    },
    {
      "cell_type": "markdown",
      "metadata": {
        "id": "lJgf6GQIIEH1"
      },
      "source": [
        "**1**. Vectorizar documentos. Tomar 5 documentos al azar y medir similaridad con el resto de los documentos.\n",
        "Estudiar los 5 documentos más similares de cada uno analizar si tiene sentido\n",
        "la similaridad según el contenido del texto y la etiqueta de clasificación.\n",
        "\n",
        "**No puedes usar la misma solución ya presentada por alguien en el foro antes que Ud. Es decir, sus 5 documentos al azar deben ser diferentes a los ya presentados, o las palabras que elija para el ejercicio 3 deben ser diferentes a las ya presentadas.**\n",
        "\n"
      ]
    },
    {
      "cell_type": "code",
      "source": [
        "from sklearn.feature_extraction.text import CountVectorizer, TfidfVectorizer\n",
        "from sklearn.metrics.pairwise import cosine_similarity\n",
        "from sklearn.naive_bayes import MultinomialNB, ComplementNB\n",
        "from sklearn.metrics import f1_score\n",
        "import random\n",
        "from sklearn.datasets import fetch_20newsgroups\n",
        "import numpy as np"
      ],
      "metadata": {
        "id": "rEBrB9xOd6Vs"
      },
      "execution_count": 25,
      "outputs": []
    },
    {
      "cell_type": "code",
      "source": [
        "newsgroups_train = fetch_20newsgroups(subset='train', remove=('headers', 'footers', 'quotes'))\n",
        "newsgroups_test  = fetch_20newsgroups(subset='test',  remove=('headers', 'footers', 'quotes'))\n",
        "# remove elimina partes no útiles de los correos: encabezados, pies y citas.\n",
        "\n",
        "# accedemos a los textos y las etiquetas\n",
        "train_docs = newsgroups_train.data\n",
        "test_docs  = newsgroups_test.data\n",
        "\n",
        "train_labels = newsgroups_train.target\n",
        "test_labels  = newsgroups_test.target\n",
        "\n",
        "label_names = newsgroups_train.target_names  # las categorías (20 temas)\n",
        "\n",
        "print(f\"Total documentos de entrenamiento: {len(train_docs)}\")\n",
        "print(f\"Total documentos de prueba: {len(test_docs)}\")\n",
        "print(f\"Total categorías: {len(label_names)}\")\n",
        "\n",
        "\n"
      ],
      "metadata": {
        "id": "dqFwQL_iW81Y",
        "colab": {
          "base_uri": "https://localhost:8080/"
        },
        "outputId": "73ae8716-d381-45b9-c06d-52cd6ff1276e"
      },
      "execution_count": 26,
      "outputs": [
        {
          "output_type": "stream",
          "name": "stdout",
          "text": [
            "Total documentos de entrenamiento: 11314\n",
            "Total documentos de prueba: 7532\n",
            "Total categorías: 20\n"
          ]
        }
      ]
    },
    {
      "cell_type": "code",
      "source": [
        "vectorizer = TfidfVectorizer(stop_words='english', max_features=5000) #para que no me explote la compu\n",
        "# Crea un vectorizador TF-IDF para transformar texto en números\n",
        "X_train = vectorizer.fit_transform(train_docs)\n",
        "X_test = vectorizer.transform(test_docs)\n",
        "\n",
        "y_train = newsgroups_train.target\n",
        "y_test  = newsgroups_test.target\n",
        "print(f\"Matriz TF-IDF (train) shape: {X_train.shape}\")\n",
        "print(f\"Matriz TF-IDF (test) shape:  {X_test.shape}\")\n"
      ],
      "metadata": {
        "id": "_1vcvi_cYWoo",
        "colab": {
          "base_uri": "https://localhost:8080/"
        },
        "outputId": "10861441-aa65-44c8-f619-8c98ec7ad1e2"
      },
      "execution_count": 39,
      "outputs": [
        {
          "output_type": "stream",
          "name": "stdout",
          "text": [
            "Matriz TF-IDF (train) shape: (11314, 5000)\n",
            "Matriz TF-IDF (test) shape:  (7532, 5000)\n"
          ]
        }
      ]
    },
    {
      "cell_type": "code",
      "source": [
        "\n",
        "SEED = 2477\n",
        "rng = np.random.default_rng(SEED) #le pasamos un numero aleatorio en seed para que genere los 5 numeros aleatorios que necesitamos\n",
        "n = X_test.shape[0]\n",
        "\n",
        "idx_pool = rng.permutation(n)\n",
        "pick = np.sort(idx_pool[:5])   # tomamos 5 documentos aleatorios del test\n",
        "\n",
        "print(\"\\nDocumentos elegidos al azar del set de prueba:\")\n",
        "for i in pick:\n",
        "    print(f\"  Doc {i} , Categoría: {label_names[test_labels[i]]}\")"
      ],
      "metadata": {
        "colab": {
          "base_uri": "https://localhost:8080/"
        },
        "id": "-uzFCn1vnpSt",
        "outputId": "5ef43b4a-3d7e-4563-9892-1ab5ff6fc13f"
      },
      "execution_count": 28,
      "outputs": [
        {
          "output_type": "stream",
          "name": "stdout",
          "text": [
            "\n",
            "Documentos elegidos al azar del set de prueba:\n",
            "  Doc 467 , Categoría: rec.sport.baseball\n",
            "  Doc 4008 , Categoría: sci.med\n",
            "  Doc 4545 , Categoría: misc.forsale\n",
            "  Doc 5245 , Categoría: rec.autos\n",
            "  Doc 7249 , Categoría: rec.sport.hockey\n"
          ]
        }
      ]
    },
    {
      "cell_type": "code",
      "source": [
        "for i in pick:\n",
        "    print(\"\\n\" + \"=\"*140)\n",
        "    print(f\" Documento TEST {i} | Categoría: {label_names[test_labels[i]]}\")\n",
        "    print(\"°\"*90)\n",
        "    print(test_docs[i][:400].replace(\"\\n\", \" \") + \"...\")  # fragmento del texto\n",
        "\n",
        "    # calculamos similitud del documento test i con todos los documentos train\n",
        "    cossim = cosine_similarity(X_test[i], X_train)[0]\n",
        "\n",
        "    # ordenamos índices de mayor a menor similitud\n",
        "    most_similar_idx = np.argsort(-cossim)\n",
        "\n",
        "    # top 5 más similares en train (excluyendo el mismo si estuviera)\n",
        "    top5 = most_similar_idx[:5]\n",
        "\n",
        "    print(\"\\n** Top 5 documentos más similares en TRAIN:**\")\n",
        "    for j in top5:\n",
        "        print(f\"\\n  → Doc TRAIN {j} | Similitud: {cossim[j]:.3f} | Categoría: {label_names[train_labels[j]]}\")\n",
        "        print(f\"    Texto: {train_docs[j][:200].replace(chr(10), ' ')}...\")  # primeros 200 caracteres\n"
      ],
      "metadata": {
        "colab": {
          "base_uri": "https://localhost:8080/"
        },
        "id": "qZ0CCfg8ohBC",
        "outputId": "90209431-151b-4ab0-8b6d-3d9bcbd358e9"
      },
      "execution_count": 45,
      "outputs": [
        {
          "output_type": "stream",
          "name": "stdout",
          "text": [
            "\n",
            "============================================================================================================================================\n",
            " Documento TEST 467 | Categoría: rec.sport.baseball\n",
            "°°°°°°°°°°°°°°°°°°°°°°°°°°°°°°°°°°°°°°°°°°°°°°°°°°°°°°°°°°°°°°°°°°°°°°°°°°°°°°°°°°°°°°°°°°\n",
            "To encourage the great tradition of Red Sox negativism, I am having a  contest to predict the magnitude of the Sox' fall from their current  heights.  You must decide first, whether the Sox will be at .500 again at any time during this year.  Then you must predict either:  (1) Their record the first time they're at .500, if they are, or  (2) Their final record, if they stay above .500 the rest of ...\n",
            "\n",
            "** Top 5 documentos más similares en TRAIN:**\n",
            "\n",
            "  → Doc TRAIN 7974 | Similitud: 0.462 | Categoría: rec.sport.baseball\n",
            "    Texto: Today, Frank Viola and rest of pitcher staff of Boston Red Sox shutout Chicago White Sox 4-0.  It is Red Sox 9th win of this season....\n",
            "\n",
            "  → Doc TRAIN 7953 | Similitud: 0.424 | Categoría: rec.sport.baseball\n",
            "    Texto:  As long as the Yankees are in the same division the Red Sox will play better than .500 baseball.  Or the Red Sox can hire former East German swimming coaches to \"train\" them at the fine art of body \"...\n",
            "\n",
            "  → Doc TRAIN 10350 | Similitud: 0.329 | Categoría: rec.sport.baseball\n",
            "    Texto: Why are the Red Sox in first place?  Eight games into the season, they already have two wins each from Clemens and Viola.  Clemens starts again tonight, on three days rest.  What's up?  Are the Sox go...\n",
            "\n",
            "  → Doc TRAIN 6260 | Similitud: 0.326 | Categoría: rec.sport.baseball\n",
            "    Texto:   no kidding...just ask the White Sox...  too bad, really...  -John Neuharth...\n",
            "\n",
            "  → Doc TRAIN 2268 | Similitud: 0.308 | Categoría: rec.sport.baseball\n",
            "    Texto: You can add Steve Rosenberg, one-time White Sox reliever now in the Mets system, to the list....\n",
            "\n",
            "============================================================================================================================================\n",
            " Documento TEST 4008 | Categoría: sci.med\n",
            "°°°°°°°°°°°°°°°°°°°°°°°°°°°°°°°°°°°°°°°°°°°°°°°°°°°°°°°°°°°°°°°°°°°°°°°°°°°°°°°°°°°°°°°°°°\n",
            "I need some ECG data , uncompressed,  hopefully in ascii format. Don't care what it looks like, this is for a signal processing project. ...\n",
            "\n",
            "** Top 5 documentos más similares en TRAIN:**\n",
            "\n",
            "  → Doc TRAIN 5813 | Similitud: 0.249 | Categoría: sci.space\n",
            "    Texto: Could someone please send me the basics of the NASP project: 1. The proposal/objectives 2. The current status of the project/obstacles encountered 3. Chance that the project shall ever be completed or...\n",
            "\n",
            "  → Doc TRAIN 5405 | Similitud: 0.244 | Categoría: comp.graphics\n",
            "    Texto: Has anybody made a converter from irit's .irt or .dat format to  .pov format ?  Thanks! ...\n",
            "\n",
            "  → Doc TRAIN 5070 | Similitud: 0.243 | Categoría: comp.sys.ibm.pc.hardware\n",
            "    Texto: In evolution of 80-x86 data path width has been doubled from  8 to 16 t0 32 bits but the speed of data processing has not increased at same rate.The question is Why? What is relationship bettween data...\n",
            "\n",
            "  → Doc TRAIN 3120 | Similitud: 0.200 | Categoría: comp.graphics\n",
            "    Texto: I'm interested in find out what is involved in processing pairs of  stereo photographs.  I have black-and-white photos and would like  to obtain surface contours.  I'd prefer to do the processing on a...\n",
            "\n",
            "  → Doc TRAIN 3762 | Similitud: 0.196 | Categoría: comp.graphics\n",
            "    Texto: Hi! \tI am working on a project that needs to create contour lines from random data points.  The work that I have done so far tells me that I need to look into Triangulated Irregular Networks (TIN), th...\n",
            "\n",
            "============================================================================================================================================\n",
            " Documento TEST 4545 | Categoría: misc.forsale\n",
            "°°°°°°°°°°°°°°°°°°°°°°°°°°°°°°°°°°°°°°°°°°°°°°°°°°°°°°°°°°°°°°°°°°°°°°°°°°°°°°°°°°°°°°°°°°\n",
            "I have a few the original IBM 10Mb harddisks for sale. They are actually Seagate's ST412, MFM, full height,  has the IBM logo and black face plate.      Each disk is checked and formatted with DOS 6.0. It can be doubled to  20Mb or so with dblspace or stacker if you so desire.  Have the original IBM foam fitted boxies and anti-static bags. I am not sure if they were ever  used, but each drive that...\n",
            "\n",
            "** Top 5 documentos más similares en TRAIN:**\n",
            "\n",
            "  → Doc TRAIN 8896 | Similitud: 0.275 | Categoría: comp.sys.mac.hardware\n",
            "    Texto:      Their should be no difference in the drive itself between IBM-PC and Mac. The two main differences are the formatting of the disk itself (but with the correct software each can read the others) a...\n",
            "\n",
            "  → Doc TRAIN 2400 | Similitud: 0.266 | Categoría: sci.electronics\n",
            "    Texto: I just got an IBM-PC XT with no documents. Its a true IBM, and I was wondering if anyone had the definitions of the 2 8 position dip switches? ...\n",
            "\n",
            "  → Doc TRAIN 2609 | Similitud: 0.265 | Categoría: misc.forsale\n",
            "    Texto: NEW POSTING, LOWER PRICES!!  MAKE OFFERS ON ANYTHING THAT SEEMS INTERESTING!!    A company I'm associated with is closing out some inventory and office equipment.  Here's what's available:   Quan.    ...\n",
            "\n",
            "  → Doc TRAIN 4842 | Similitud: 0.253 | Categoría: comp.sys.ibm.pc.hardware\n",
            "    Texto:   :Because of some contract, IBM is not allowed to sell its  :486 chips to third parties, so these chips are unlikely to become  :available in any non-IBM machines.   I saw in this months PC or PC Wor...\n",
            "\n",
            "  → Doc TRAIN 7581 | Similitud: 0.252 | Categoría: misc.forsale\n",
            "    Texto: IBM 3510-001 cd-rom drive 350ms. drive only make offer or trade.                                                                 ...\n",
            "\n",
            "============================================================================================================================================\n",
            " Documento TEST 5245 | Categoría: rec.autos\n",
            "°°°°°°°°°°°°°°°°°°°°°°°°°°°°°°°°°°°°°°°°°°°°°°°°°°°°°°°°°°°°°°°°°°°°°°°°°°°°°°°°°°°°°°°°°°\n",
            " The clutch on my '92 Honda Civic EX-V (EX in the U.S.) does this too. It's annoying.  Now that I think about, it _is_ worse when the humidity is high.  The dealer also claims there's nothing they can do since the clutch is  a \"self-adjusting hydraulic design\".  Yeah, right. ...\n",
            "\n",
            "** Top 5 documentos más similares en TRAIN:**\n",
            "\n",
            "  → Doc TRAIN 10831 | Similitud: 0.425 | Categoría: rec.motorcycles\n",
            "    Texto: ;Revving the throttle requires either [dis]engaging the clutch,  ;or accelerating.    Not if it's a Harley. ...\n",
            "\n",
            "  → Doc TRAIN 1991 | Similitud: 0.236 | Categoría: rec.sport.baseball\n",
            "    Texto:  I was *hoping* somebody would mention clutch.  Clutch?  Baerga?  The two words simply do not go together.  With runners in scoring position, Baerga batted .308/.366/.418 last year.  This doesn't quit...\n",
            "\n",
            "  → Doc TRAIN 2183 | Similitud: 0.224 | Categoría: rec.autos\n",
            "    Texto: Quoting Jeffrey J. Nucciarone's (nucci@microwave.gsfc.nasa.gov) article  <C4G8Hv.Cs4@skates.gsfc.nasa.gov> of 04-06-93, in pertinent part:   JJ>   I am considering buying a used '90 Taurus SHO.  The c...\n",
            "\n",
            "  → Doc TRAIN 2802 | Similitud: 0.217 | Categoría: rec.autos\n",
            "    Texto: Hi everybody,     I will buy a Honda Civic EX Coupe.  The dealer ask $12,750 for it, including A/C ( installed ), but not including stereo, tax, registration fees.  I live in Mexico, so I don't have t...\n",
            "\n",
            "  → Doc TRAIN 2689 | Similitud: 0.198 | Categoría: rec.autos\n",
            "    Texto:    W/r/t performance, converter lockup is purely irrelevant.  The lockup only occurs at light throttle settings and serves only to improve MPG.  Mind you, a converter clutch does a lovely job of impro...\n",
            "\n",
            "============================================================================================================================================\n",
            " Documento TEST 7249 | Categoría: rec.sport.hockey\n",
            "°°°°°°°°°°°°°°°°°°°°°°°°°°°°°°°°°°°°°°°°°°°°°°°°°°°°°°°°°°°°°°°°°°°°°°°°°°°°°°°°°°°°°°°°°°\n",
            " Hindsight's 20-20. Nobody expected Kisio to have his 2nd best career year.   I didn't mean to imply that Gund's offer wasn't enough.  Gund's offer was the right $, but too late in the season.  $2M offered in November lets Sather buy a replacement for Murphy *this* season and make the playoffs *this* year. $2M in March doesn't help Sather with his immediate objectives, doesn't help with long term ...\n",
            "\n",
            "** Top 5 documentos más similares en TRAIN:**\n",
            "\n",
            "  → Doc TRAIN 3377 | Similitud: 0.421 | Categoría: rec.sport.hockey\n",
            "    Texto: Apparently, Part 2 (defensemen numbered 2 through 19) was lost when I posted it; to make things worse, I lost my own copy.  I have asked on the Sharks mailing list, on which it did get out, to see if ...\n",
            "\n",
            "  → Doc TRAIN 6985 | Similitud: 0.371 | Categoría: rec.sport.hockey\n",
            "    Texto: As the Sharks' season came to a close tonight, I will start a series of posts, trying to revisit the players, the trades, the moves, etc., that went through for the Sharks for the past season.  If you...\n",
            "\n",
            "  → Doc TRAIN 1573 | Similitud: 0.311 | Categoría: rec.sport.hockey\n",
            "    Texto: #21\tPETER AHOLA\t\tSeason: 2nd Acquired:\t'92-93, trade with Pittsburgh for future considerations Grade:\t\tI (B)  It is way too early to tell about Ahola, who was acquired probably because the Penguins fi...\n",
            "\n",
            "  → Doc TRAIN 471 | Similitud: 0.290 | Categoría: rec.sport.hockey\n",
            "    Texto: 1992-93 Los Angeles Kings notes. -------------------------------- Playoffs: --------- *Stauber disturbed by third-man theme by Rick Sadowski, Daily News  Barry Melrose's decision to stick Robb Stauber...\n",
            "\n",
            "  → Doc TRAIN 3576 | Similitud: 0.277 | Categoría: rec.sport.hockey\n",
            "    Texto:    Sorry, Nelson, but you forgot to ask me. If you check the THN stats for Kansas City, you'll find that Larry has been playing for the games, having played in 8 games in the period covered in the sta...\n"
          ]
        }
      ]
    },
    {
      "cell_type": "markdown",
      "source": [
        "\n",
        "## el documento 467 habla de baseball y sus similitudes tienen sentido porque son todas de la categoria re.sport.baseball\n",
        "\n",
        "-----------------------------------------------------\n",
        "\n",
        "\n",
        "## el 4008 habla de computacion y electronica y los documentos relacionados son de los mismos temas asi que tambien esta correcto\n",
        "\n",
        "-----------------------------------------------------\n",
        "## el 4545 tiene distintas categorias entre los docs mas similares, pero todos teinen en comun quje hablan sobre IBM asis que lo doy por correcto\n",
        "\n",
        "--------------------------------------------------------------\n",
        "## el 5245 esta en la categoria rec.autos, y casi todos los articulos relacionados parecen tener que ver en tematica mas alla de su categoria, pero hay algunos que parecen hablar de cosas totalmente diferentes\n",
        "\n",
        "--------------------------------------------------------------\n",
        "## en el 7249 todos los documentos son similares asi que tiene sentido\n"
      ],
      "metadata": {
        "id": "AwJ3fHBS74QN"
      }
    },
    {
      "cell_type": "markdown",
      "source": [
        "\n",
        "\n",
        "**2**. Transponer la matriz documento-término. De esa manera se obtiene una matriz\n",
        "término-documento que puede ser interpretada como una colección de vectorización de palabras.\n",
        "Estudiar ahora similaridad entre palabras tomando 5 palabras y estudiando sus 5 más similares. **La elección de palabras no debe ser al azar para evitar la aparición de términos poco interpretables, elegirlas \"manualmente\"**."
      ],
      "metadata": {
        "id": "JS1u_5kle7U8"
      }
    },
    {
      "cell_type": "code",
      "source": [
        "X_train_transposed = X_train.T\n",
        "print(f\"Matriz término-documento: {X_train_transposed.shape}\")"
      ],
      "metadata": {
        "id": "DmfG6DCYW9Kt",
        "colab": {
          "base_uri": "https://localhost:8080/"
        },
        "outputId": "0450835e-417d-49c9-9781-887a7d406383"
      },
      "execution_count": 33,
      "outputs": [
        {
          "output_type": "stream",
          "name": "stdout",
          "text": [
            "Matriz término-documento: (1000, 11314)\n"
          ]
        }
      ]
    },
    {
      "cell_type": "code",
      "source": [
        "selected_words = ['car', 'bible', 'price', 'health', 'space']\n",
        "selected_words = [w.lower() for w in selected_words]  # TF-IDF convierte todo a minúsculas\n",
        "\n",
        "# Verificamos que las palabras están realmente en el vocabulario porque al acotarlo muchas que parecen obvias no estan\n",
        "for w in selected_words:\n",
        "    if w in selected_words:\n",
        "        print(f\"'{w}' está en el vocabulario\")\n",
        "    else:\n",
        "        print(f\"'{w}' NO está en el vocabulario\")\n"
      ],
      "metadata": {
        "colab": {
          "base_uri": "https://localhost:8080/"
        },
        "id": "EZL5TwDHMx6e",
        "outputId": "44ce694c-7bbb-4938-c246-0417bc96866d"
      },
      "execution_count": 35,
      "outputs": [
        {
          "output_type": "stream",
          "name": "stdout",
          "text": [
            "'car' está en el vocabulario\n",
            "'bible' está en el vocabulario\n",
            "'price' está en el vocabulario\n",
            "'health' está en el vocabulario\n",
            "'space' está en el vocabulario\n"
          ]
        }
      ]
    },
    {
      "cell_type": "code",
      "source": [
        "\n",
        "\n",
        "# Obtenemos vocabulario\n",
        "terms = vectorizer.get_feature_names_out()\n",
        "\n",
        "# Transponemos la matriz\n",
        "X_words = X_train.T\n",
        "\n",
        "# Calculamos similitud coseno entre palabras\n",
        "similarities_terms = cosine_similarity(X_words.toarray())\n",
        "\n",
        "# Palabras manualmente seleccionadas\n",
        "selected_words = ['car', 'bible', 'price', 'health', 'space']\n",
        "\n",
        "# Buscamos los índices de las palabras\n",
        "indices = [np.where(terms == w)[0][0] for w in selected_words]\n",
        "print(\"Indices de las palabras seleccionadas:\", indices)\n",
        "\n",
        "#de cada palabra buscamos las 5 mas similares\n",
        "\n",
        "for word in selected_words:\n",
        "   if word in terms:\n",
        "    # Índice de la palabra en vocabulario\n",
        "    idx = np.where(terms == word)[0][0]\n",
        "\n",
        "    # Similitud con todas las palabras\n",
        "    sim_scores = list(enumerate(similarities_terms[idx]))\n",
        "\n",
        "    # Ordenar de mayor a menor\n",
        "    sim_scores = sorted(sim_scores, key=lambda x: x[1], reverse=True)\n",
        "\n",
        "    # Tomamos las 5 más similares (excluyendo la misma palabra)\n",
        "    top5 = [terms[j] for j, score in sim_scores[1:6]]\n",
        "   else:\n",
        "         print(f\"La palabra '{word}' no está en el vocabulario\")\n",
        "    # Mostrar resultados\n",
        "   print(\"=\"*80)\n",
        "   print(f\" Palabra: '{word}'\")\n",
        "   print(\"Palabras más similares:\", top5)\n"
      ],
      "metadata": {
        "colab": {
          "base_uri": "https://localhost:8080/"
        },
        "id": "JQkOIxPhCdiq",
        "outputId": "d3b50f94-bead-48b2-c438-8bc28e00a15c"
      },
      "execution_count": 44,
      "outputs": [
        {
          "output_type": "stream",
          "name": "stdout",
          "text": [
            "Indices de las palabras seleccionadas: [np.int64(900), np.int64(724), np.int64(3491), np.int64(2159), np.int64(4221)]\n",
            "================================================================================\n",
            " Palabra: 'car'\n",
            "Palabras más similares: ['cars', 'dealer', 'owner', 'engine', 'mileage']\n",
            "================================================================================\n",
            " Palabra: 'bible'\n",
            "Palabras más similares: ['god', 'christians', 'jesus', 'christian', 'interpretation']\n",
            "================================================================================\n",
            " Palabra: 'price'\n",
            "Palabras más similares: ['prices', 'sale', 'new', 'brand', 'dealer']\n",
            "================================================================================\n",
            " Palabra: 'health'\n",
            "Palabras más similares: ['care', 'insurance', 'hicnet', 'medicine', 'medical']\n",
            "================================================================================\n",
            " Palabra: 'space'\n",
            "Palabras más similares: ['nasa', 'shuttle', 'exploration', 'launch', 'station']\n"
          ]
        }
      ]
    },
    {
      "cell_type": "markdown",
      "metadata": {
        "id": "o3hirpeJeMMa"
      },
      "source": [
        "\n",
        "**3**. Entrenar modelos de clasificación Naïve Bayes para maximizar el desempeño de clasificación\n",
        "(f1-score macro) en el conjunto de datos de test. Considerar cambiar parámteros\n",
        "de instanciación del vectorizador y los modelos y probar modelos de Naïve Bayes Multinomial\n",
        "y ComplementNB."
      ]
    },
    {
      "cell_type": "code",
      "source": [
        "from sklearn.naive_bayes import MultinomialNB  #importamos le modelo naive bayes\n",
        "\n",
        "clf = MultinomialNB() #creamos una instancia de clasificador\n",
        "clf.fit(X_train, y_train) #entrena al modelo\n",
        "\n",
        "tfidfvect = TfidfVectorizer(stop_words='english', max_features=5000) #vectorizamos y limite de 5000 palabras en el vocabulario\n",
        "X_train = tfidfvect.fit_transform(newsgroups_train.data)  # Fit y transform sobre train\n",
        "X_test = tfidfvect.transform(newsgroups_test.data)        # Solo transform sobre test\n",
        "\n",
        "y_pred = clf.predict(X_test)\n",
        "# 'macro' = promedio de F1-score por clase (útil con desbalance de clases)\n",
        "f1_macro = f1_score(y_test, y_pred, average='macro')\n",
        "print(f1_macro)"
      ],
      "metadata": {
        "id": "HLqhJ699XMGv",
        "colab": {
          "base_uri": "https://localhost:8080/"
        },
        "outputId": "8a40a4d4-ac06-4218-8ea1-1be146c4af4f"
      },
      "execution_count": 40,
      "outputs": [
        {
          "output_type": "stream",
          "name": "stdout",
          "text": [
            "0.6243150711044391\n"
          ]
        }
      ]
    },
    {
      "cell_type": "code",
      "source": [
        "models = {\n",
        "    \"MultinomialNB\": MultinomialNB(alpha=0.5),\n",
        "    \"ComplementNB\": ComplementNB(alpha=0.5)\n",
        "}\n",
        "\n",
        "\n",
        "for name, model in models.items():\n",
        "    model.fit(X_train, y_train)\n",
        "    y_pred = model.predict(X_test)\n",
        "    f1 = f1_score(y_test, y_pred, average='macro')\n",
        "    print(f\"{name} → F1 macro: {f1:.4f}\")\n",
        "\n",
        "    #este codigo nos muestra el entenamiento y evaluacion de dos modelos naive bayes\n",
        "    # lo hice manualmente porque se me complicaba hacer un bucle que pruebe  hasta dar con la  mejor configuracion"
      ],
      "metadata": {
        "id": "Kz-xKnmQXMXd",
        "colab": {
          "base_uri": "https://localhost:8080/"
        },
        "outputId": "0852a0a5-eeca-4edd-b4d6-e89382e45d92"
      },
      "execution_count": 41,
      "outputs": [
        {
          "output_type": "stream",
          "name": "stdout",
          "text": [
            "MultinomialNB → F1 macro: 0.6337\n",
            "ComplementNB → F1 macro: 0.6335\n"
          ]
        }
      ]
    },
    {
      "cell_type": "markdown",
      "source": [
        "# En este trabajo los pasos que seguimos fueron:\n",
        "\n",
        "# 1- carga del dataset\n",
        "\n",
        "# 2-vectorizacion\n",
        "\n",
        "# 3-entrenamiento del modelo naive bayes\n",
        "\n",
        "# 4-evaluacion del desempeño\n",
        "\n",
        "# fue un trabajo bastante desafiante en el que aprendi bastantes cosas nuevas y vi como se relacionan con lo anterior que ya venimos viendo, el modelo fue un exito con un f1 macro de 0.624 antes de los ajustes y logrando 0.633 despues de algunas modificaciones, lo que nos da una buena probabilidad de lograr una correcta clasificacion de las palabras y los documentos"
      ],
      "metadata": {
        "id": "VciscBxJASuj"
      }
    }
  ],
  "metadata": {
    "colab": {
      "provenance": []
    },
    "kernelspec": {
      "display_name": "Python 3",
      "name": "python3"
    },
    "language_info": {
      "name": "python"
    }
  },
  "nbformat": 4,
  "nbformat_minor": 0
}